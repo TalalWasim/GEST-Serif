{
 "cells": [
  {
   "cell_type": "code",
   "execution_count": 1,
   "metadata": {},
   "outputs": [],
   "source": [
    "import torch\n",
    "from trainUtils import print_classification_report, get_classification_report, load_dataset\n",
    "from models.modeling import VisionTransformer, CONFIGS\n",
    "\n",
    "device = torch.device(\"cuda:{}\".format(0)) if torch.cuda.is_available() else torch.device(\"cpu\")"
   ]
  },
  {
   "cell_type": "code",
   "execution_count": 17,
   "metadata": {},
   "outputs": [
    {
     "name": "stderr",
     "output_type": "stream",
     "text": [
      "/share/softwares/anaconda/anaconda3/envs/svt/lib/python3.8/site-packages/torchvision/transforms/transforms.py:329: UserWarning: Argument 'interpolation' of type int is deprecated since 0.13 and will be removed in 0.15. Please use InterpolationMode enum.\n",
      "  warnings.warn(\n"
     ]
    }
   ],
   "source": [
    "# Build dataloaders\n",
    "train_loader, test_loader, _ = load_dataset('../serif_dataset/images/train',\n",
    "                                       '../serif_dataset/images/test',\n",
    "                                       train_batch_size=32,\n",
    "                                       resize_size=600,\n",
    "                                       crop_size=448,\n",
    "                                       num_workers=8)\n",
    "config = CONFIGS['ViT-B_16']\n",
    "config.split = 'overlap'\n",
    "config.slide_step = 12"
   ]
  },
  {
   "cell_type": "code",
   "execution_count": 7,
   "metadata": {},
   "outputs": [],
   "source": [
    "model = VisionTransformer(config, 448,\n",
    "                        zero_head=True,\n",
    "                        num_classes=4,\n",
    "                        smoothing_value=0.0,\n",
    "                        class_weights_path=None)\n",
    "ckpt = torch.load('/share/data/drive_2/repos/GEST_serifs/TransFG/output/b16_checkpoint.bin')\n",
    "model.load_state_dict(ckpt['model'], strict=True)\n",
    "model.to(device);"
   ]
  },
  {
   "cell_type": "code",
   "execution_count": 8,
   "metadata": {},
   "outputs": [
    {
     "name": "stderr",
     "output_type": "stream",
     "text": [
      "100%|██████████| 92/92 [03:11<00:00,  2.08s/it]\n"
     ]
    }
   ],
   "source": [
    "report_dict_train = get_classification_report(model, train_loader, device)\n",
    "report_train = print_classification_report(report_dict_train)\n",
    "print(report_train)"
   ]
  },
  {
   "cell_type": "code",
   "execution_count": 9,
   "metadata": {},
   "outputs": [
    {
     "name": "stdout",
     "output_type": "stream",
     "text": [
      "              precision    recall  f1-score   support\n",
      "\n",
      "         0.0       0.94      0.39      0.55       620\n",
      "         1.0       0.92      0.97      0.94      1178\n",
      "         2.0       0.83      0.63      0.72       558\n",
      "         3.0       0.54      0.97      0.70       558\n",
      "\n",
      "    accuracy                           0.78      2914\n",
      "   macro avg       0.81      0.74      0.73      2914\n",
      "weighted avg       0.83      0.78      0.77      2914\n",
      "\n"
     ]
    }
   ],
   "source": [
    "report_dict_test = get_classification_report(model, test_loader, device)\n",
    "report_test = print_classification_report(report_dict_test)\n",
    "print(report_test)"
   ]
  },
  {
   "cell_type": "code",
   "execution_count": 12,
   "metadata": {},
   "outputs": [
    {
     "name": "stdout",
     "output_type": "stream",
     "text": [
      "0.7680147568365381 0.8063389668506007\n"
     ]
    }
   ],
   "source": [
    "p = report_dict['weighted avg']['precision']\n",
    "r = report_dict['weighted avg']['recall']\n",
    "f = report_dict['weighted avg']['f1-score']\n",
    "\n",
    "f1 = 2*((p*r)/(p+r))\n",
    "\n",
    "print(f, f1)"
   ]
  },
  {
   "cell_type": "code",
   "execution_count": 16,
   "metadata": {},
   "outputs": [
    {
     "data": {
      "text/plain": [
       "0.768936170212766"
      ]
     },
     "execution_count": 16,
     "metadata": {},
     "output_type": "execute_result"
    }
   ],
   "source": [
    "((0.55*620 + 0.94*1178 + 0.72*558 + 0.70*558)/2914)"
   ]
  }
 ],
 "metadata": {
  "kernelspec": {
   "display_name": "Python 3.8.13 64-bit ('svt')",
   "language": "python",
   "name": "python3"
  },
  "language_info": {
   "codemirror_mode": {
    "name": "ipython",
    "version": 3
   },
   "file_extension": ".py",
   "mimetype": "text/x-python",
   "name": "python",
   "nbconvert_exporter": "python",
   "pygments_lexer": "ipython3",
   "version": "3.8.13"
  },
  "orig_nbformat": 4,
  "vscode": {
   "interpreter": {
    "hash": "11b004e3ea64c1e612ae581eb76d3501d3dd7b416c5c11f1c38dbbd0cacf8d80"
   }
  }
 },
 "nbformat": 4,
 "nbformat_minor": 2
}
