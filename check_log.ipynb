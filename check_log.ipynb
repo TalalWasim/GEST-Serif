{
 "cells": [
  {
   "cell_type": "code",
   "execution_count": 1,
   "metadata": {},
   "outputs": [],
   "source": [
    "import os\n",
    "from trainUtils import load_dict, print_classification_report"
   ]
  },
  {
   "cell_type": "code",
   "execution_count": 8,
   "metadata": {},
   "outputs": [],
   "source": [
    "exp_name = 'Resnet18-LR-0.01-gamma-0.2-step-5-epochs-3-advdata-gaussian_blur-advtrain-False'\n",
    "path = os.path.join('./results', exp_name, 'LOG.pkl')"
   ]
  },
  {
   "cell_type": "code",
   "execution_count": 9,
   "metadata": {},
   "outputs": [],
   "source": [
    "log_dict = load_dict(path)"
   ]
  },
  {
   "cell_type": "code",
   "execution_count": 10,
   "metadata": {},
   "outputs": [
    {
     "data": {
      "text/plain": [
       "dict_keys(['0.0', '1.0', '2.0', '3.0', '4.0', '5.0', '6.0', '7.0', '8.0', '9.0', 'accuracy', 'macro avg', 'weighted avg'])"
      ]
     },
     "execution_count": 10,
     "metadata": {},
     "output_type": "execute_result"
    }
   ],
   "source": [
    "log_dict['cls_reports']['train'].keys()"
   ]
  },
  {
   "cell_type": "code",
   "execution_count": 14,
   "metadata": {},
   "outputs": [
    {
     "name": "stdout",
     "output_type": "stream",
     "text": [
      "              precision    recall  f1-score   support\n",
      "\n",
      "         0.0       0.57      0.54      0.55      5000\n",
      "         1.0       0.60      0.57      0.58      5000\n",
      "         2.0       0.54      0.14      0.22      5000\n",
      "         3.0       0.45      0.15      0.23      5000\n",
      "         4.0       0.32      0.62      0.42      5000\n",
      "         5.0       0.48      0.48      0.48      5000\n",
      "         6.0       0.82      0.34      0.48      5000\n",
      "         7.0       0.44      0.68      0.53      5000\n",
      "         8.0       0.71      0.41      0.52      5000\n",
      "         9.0       0.41      0.82      0.55      5000\n",
      "\n",
      "    accuracy                           0.48     50000\n",
      "   macro avg       0.53      0.48      0.46     50000\n",
      "weighted avg       0.53      0.48      0.46     50000\n",
      "\n"
     ]
    }
   ],
   "source": [
    "report = print_classification_report(log_dict['cls_reports']['train'])\n",
    "print(report)"
   ]
  }
 ],
 "metadata": {
  "kernelspec": {
   "display_name": "Python 3.8.13 64-bit ('svt')",
   "language": "python",
   "name": "python3"
  },
  "language_info": {
   "codemirror_mode": {
    "name": "ipython",
    "version": 3
   },
   "file_extension": ".py",
   "mimetype": "text/x-python",
   "name": "python",
   "nbconvert_exporter": "python",
   "pygments_lexer": "ipython3",
   "version": "3.8.13"
  },
  "orig_nbformat": 4,
  "vscode": {
   "interpreter": {
    "hash": "11b004e3ea64c1e612ae581eb76d3501d3dd7b416c5c11f1c38dbbd0cacf8d80"
   }
  }
 },
 "nbformat": 4,
 "nbformat_minor": 2
}
