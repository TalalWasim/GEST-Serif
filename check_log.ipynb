{
 "cells": [
  {
   "cell_type": "code",
   "execution_count": 1,
   "metadata": {},
   "outputs": [],
   "source": [
    "import os\n",
    "from trainUtils import load_dict, print_classification_report"
   ]
  },
  {
   "cell_type": "code",
   "execution_count": 12,
   "metadata": {},
   "outputs": [
    {
     "name": "stdout",
     "output_type": "stream",
     "text": [
      "0.9250311843746546\n",
      "0.790665751544269\n"
     ]
    }
   ],
   "source": [
    "exp_name = 'Serifs-efficientnet_b2-lr-0.01-g-0.2-s-5-e-30'\n",
    "path = os.path.join('./results', exp_name, 'LOG.pkl')\n",
    "log_dict = load_dict(path)\n",
    "print(log_dict['train_accuracies'][-1])\n",
    "print(log_dict['test_accuracies'][-1])"
   ]
  },
  {
   "cell_type": "code",
   "execution_count": 14,
   "metadata": {},
   "outputs": [
    {
     "name": "stdout",
     "output_type": "stream",
     "text": [
      "              precision    recall  f1-score   support\n",
      "\n",
      "         0.0       0.97      0.42      0.58       620\n",
      "         1.0       0.94      0.93      0.94      1178\n",
      "         2.0       0.75      0.75      0.75       558\n",
      "         3.0       0.57      0.95      0.71       558\n",
      "\n",
      "    accuracy                           0.79      2914\n",
      "   macro avg       0.81      0.76      0.75      2914\n",
      "weighted avg       0.84      0.79      0.78      2914\n",
      "\n"
     ]
    }
   ],
   "source": [
    "report = print_classification_report(log_dict['cls_reports']['test'])\n",
    "print(report)"
   ]
  },
  {
   "cell_type": "code",
   "execution_count": null,
   "metadata": {},
   "outputs": [],
   "source": []
  }
 ],
 "metadata": {
  "kernelspec": {
   "display_name": "Python 3.8.13 64-bit ('svt')",
   "language": "python",
   "name": "python3"
  },
  "language_info": {
   "codemirror_mode": {
    "name": "ipython",
    "version": 3
   },
   "file_extension": ".py",
   "mimetype": "text/x-python",
   "name": "python",
   "nbconvert_exporter": "python",
   "pygments_lexer": "ipython3",
   "version": "3.8.13"
  },
  "orig_nbformat": 4,
  "vscode": {
   "interpreter": {
    "hash": "11b004e3ea64c1e612ae581eb76d3501d3dd7b416c5c11f1c38dbbd0cacf8d80"
   }
  }
 },
 "nbformat": 4,
 "nbformat_minor": 2
}
