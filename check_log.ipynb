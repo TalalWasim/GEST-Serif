{
 "cells": [
  {
   "cell_type": "code",
   "execution_count": 3,
   "metadata": {},
   "outputs": [],
   "source": [
    "import os\n",
    "from trainUtils import load_dict, print_classification_report"
   ]
  },
  {
   "cell_type": "code",
   "execution_count": 2,
   "metadata": {},
   "outputs": [],
   "source": [
    "exp_name = 'Resnet18-LR-0.01-gamma-0.2-step-5-epochs-3-corruption-gaussian_blur'\n",
    "path = os.path.join('./results', exp_name, exp_name+'-LOG.pkl')"
   ]
  },
  {
   "cell_type": "code",
   "execution_count": 4,
   "metadata": {},
   "outputs": [],
   "source": [
    "log_dict = load_dict(path)"
   ]
  },
  {
   "cell_type": "code",
   "execution_count": 7,
   "metadata": {},
   "outputs": [
    {
     "data": {
      "text/plain": [
       "dict_keys(['0.0', '1.0', '2.0', '3.0', '4.0', '5.0', '6.0', '7.0', '8.0', '9.0', 'accuracy', 'macro avg', 'weighted avg'])"
      ]
     },
     "execution_count": 7,
     "metadata": {},
     "output_type": "execute_result"
    }
   ],
   "source": [
    "log_dict['cls_reports']['train'].keys()"
   ]
  },
  {
   "cell_type": "code",
   "execution_count": 15,
   "metadata": {},
   "outputs": [
    {
     "name": "stdout",
     "output_type": "stream",
     "text": [
      "0.0 dict_items([('precision', 0.745398773006135), ('recall', 0.243), ('f1-score', 0.3665158371040724), ('support', 1000)])\n",
      "1.0 dict_items([('precision', 0.9161849710982659), ('recall', 0.317), ('f1-score', 0.47102526002971773), ('support', 1000)])\n",
      "2.0 dict_items([('precision', 0.3356997971602434), ('recall', 0.662), ('f1-score', 0.44549125168236875), ('support', 1000)])\n",
      "3.0 dict_items([('precision', 0.2707333790267306), ('recall', 0.395), ('f1-score', 0.3212688084587231), ('support', 1000)])\n",
      "4.0 dict_items([('precision', 0.4874551971326165), ('recall', 0.136), ('f1-score', 0.21266614542611414), ('support', 1000)])\n",
      "5.0 dict_items([('precision', 0.26211709965102753), ('recall', 0.676), ('f1-score', 0.3777591506007265), ('support', 1000)])\n",
      "6.0 dict_items([('precision', 0.8221153846153846), ('recall', 0.171), ('f1-score', 0.28311258278145696), ('support', 1000)])\n",
      "7.0 dict_items([('precision', 0.8947368421052632), ('recall', 0.119), ('f1-score', 0.2100617828773169), ('support', 1000)])\n",
      "8.0 dict_items([('precision', 0.3493289955266368), ('recall', 0.859), ('f1-score', 0.49667533969355304), ('support', 1000)])\n",
      "9.0 dict_items([('precision', 0.8493723849372385), ('recall', 0.203), ('f1-score', 0.3276836158192091), ('support', 1000)])\n",
      "accuracy 0.3781\n",
      "macro avg dict_items([('precision', 0.5933142824259543), ('recall', 0.3781), ('f1-score', 0.35122597744732587), ('support', 10000)])\n",
      "weighted avg dict_items([('precision', 0.5933142824259541), ('recall', 0.3781), ('f1-score', 0.35122597744732587), ('support', 10000)])\n"
     ]
    }
   ],
   "source": [
    "for k, v in log_dict['cls_reports']['severity_5'].items():\n",
    "    print(k, v.items() if isinstance(v, dict) else v)"
   ]
  },
  {
   "cell_type": "code",
   "execution_count": null,
   "metadata": {},
   "outputs": [],
   "source": []
  }
 ],
 "metadata": {
  "kernelspec": {
   "display_name": "Python 3.8.13 64-bit ('svt')",
   "language": "python",
   "name": "python3"
  },
  "language_info": {
   "codemirror_mode": {
    "name": "ipython",
    "version": 3
   },
   "file_extension": ".py",
   "mimetype": "text/x-python",
   "name": "python",
   "nbconvert_exporter": "python",
   "pygments_lexer": "ipython3",
   "version": "3.8.13"
  },
  "orig_nbformat": 4,
  "vscode": {
   "interpreter": {
    "hash": "11b004e3ea64c1e612ae581eb76d3501d3dd7b416c5c11f1c38dbbd0cacf8d80"
   }
  }
 },
 "nbformat": 4,
 "nbformat_minor": 2
}
